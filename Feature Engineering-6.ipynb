{
 "cells": [
  {
   "cell_type": "code",
   "execution_count": null,
   "id": "28ebe148",
   "metadata": {},
   "outputs": [],
   "source": [
    "#Q1"
   ]
  },
  {
   "cell_type": "code",
   "execution_count": 1,
   "id": "ffddd27e",
   "metadata": {},
   "outputs": [
    {
     "name": "stdout",
     "output_type": "stream",
     "text": [
      "Pearson Correlation Coefficient: 1.0\n",
      "P-value: 0.0\n"
     ]
    }
   ],
   "source": [
    "import numpy as np\n",
    "from scipy.stats import pearsonr\n",
    "\n",
    "# Data\n",
    "study_time = np.array([1, 2, 3, 4, 5])\n",
    "exam_scores = np.array([55, 60, 65, 70, 75])\n",
    "\n",
    "# Calculate Pearson correlation coefficient\n",
    "correlation_coefficient, p_value = pearsonr(study_time, exam_scores)\n",
    "\n",
    "print(f\"Pearson Correlation Coefficient: {correlation_coefficient}\")\n",
    "print(f\"P-value: {p_value}\")\n"
   ]
  },
  {
   "cell_type": "code",
   "execution_count": null,
   "id": "e025dd20",
   "metadata": {},
   "outputs": [],
   "source": [
    "#Q2"
   ]
  },
  {
   "cell_type": "code",
   "execution_count": 2,
   "id": "c1929c63",
   "metadata": {},
   "outputs": [
    {
     "name": "stdout",
     "output_type": "stream",
     "text": [
      "Spearman's Rank Correlation Coefficient: 0.9906974722292784\n",
      "P-value: 1.59510226003412e-05\n"
     ]
    }
   ],
   "source": [
    "import numpy as np\n",
    "from scipy.stats import spearmanr\n",
    "\n",
    "# Data\n",
    "sleep_time = np.array([6, 7, 5, 8, 6, 7, 5])\n",
    "job_satisfaction = np.array([7, 8, 6, 9, 7, 8, 5])\n",
    "\n",
    "# Calculate Spearman's rank correlation coefficient\n",
    "spearman_coefficient, p_value = spearmanr(sleep_time, job_satisfaction)\n",
    "\n",
    "print(f\"Spearman's Rank Correlation Coefficient: {spearman_coefficient}\")\n",
    "print(f\"P-value: {p_value}\")\n"
   ]
  },
  {
   "cell_type": "code",
   "execution_count": null,
   "id": "8930158f",
   "metadata": {},
   "outputs": [],
   "source": [
    "#Q3"
   ]
  },
  {
   "cell_type": "code",
   "execution_count": 4,
   "id": "ea7ec618",
   "metadata": {},
   "outputs": [
    {
     "name": "stdout",
     "output_type": "stream",
     "text": [
      "Sample Data:\n",
      "   Hours_of_Exercise        BMI\n",
      "0           5.488135  23.843392\n",
      "1           7.151894  30.325604\n",
      "2           6.027634  25.966879\n",
      "3           5.448832  26.399435\n",
      "4           4.236548  25.376135\n",
      "Pearson Correlation Coefficient: -0.6369983200734973\n",
      "Pearson P-value: 6.575858093419936e-07\n",
      "Spearman's Rank Correlation Coefficient: -0.6005762304921969\n",
      "Spearman P-value: 4.011160836366712e-06\n"
     ]
    }
   ],
   "source": [
    "import numpy as np\n",
    "import pandas as pd\n",
    "from scipy.stats import pearsonr, spearmanr\n",
    "\n",
    "# Set a random seed for reproducibility\n",
    "np.random.seed(0)\n",
    "\n",
    "# Generate synthetic data\n",
    "hours_of_exercise = np.random.uniform(0, 10, 50)  # Random hours of exercise between 0 and 10\n",
    "BMI = 30 - 0.5 * hours_of_exercise + np.random.normal(0, 2, 50)  # Inverse relationship with some noise\n",
    "\n",
    "# Create a DataFrame\n",
    "data = pd.DataFrame({\n",
    "    'Hours_of_Exercise': hours_of_exercise,\n",
    "    'BMI': BMI\n",
    "})\n",
    "\n",
    "print(\"Sample Data:\")\n",
    "print(data.head())\n",
    "\n",
    "# Calculate Pearson correlation coefficient\n",
    "pearson_coefficient, pearson_p_value = pearsonr(data['Hours_of_Exercise'], data['BMI'])\n",
    "\n",
    "print(f\"Pearson Correlation Coefficient: {pearson_coefficient}\")\n",
    "print(f\"Pearson P-value: {pearson_p_value}\")\n",
    "\n",
    "# Calculate Spearman's rank correlation coefficient\n",
    "spearman_coefficient, spearman_p_value = spearmanr(data['Hours_of_Exercise'], data['BMI'])\n",
    "\n",
    "print(f\"Spearman's Rank Correlation Coefficient: {spearman_coefficient}\")\n",
    "print(f\"Spearman P-value: {spearman_p_value}\")\n"
   ]
  },
  {
   "cell_type": "code",
   "execution_count": null,
   "id": "e4b2d8e4",
   "metadata": {},
   "outputs": [],
   "source": [
    "#Q4"
   ]
  },
  {
   "cell_type": "code",
   "execution_count": 5,
   "id": "85189493",
   "metadata": {},
   "outputs": [
    {
     "name": "stdout",
     "output_type": "stream",
     "text": [
      "Sample Data:\n",
      "   TV_Watching_Hours  Physical_Activity_Level\n",
      "0           2.498160                 8.240306\n",
      "1           4.802857                 5.368511\n",
      "2           3.927976                 5.956376\n",
      "3           3.394634                 6.304262\n",
      "4           1.624075                 6.897403\n"
     ]
    }
   ],
   "source": [
    "import numpy as np\n",
    "import pandas as pd\n",
    "from scipy.stats import pearsonr\n",
    "\n",
    "# Set a random seed for reproducibility\n",
    "np.random.seed(42)\n",
    "\n",
    "# Generate synthetic data\n",
    "tv_watching_hours = np.random.uniform(1, 5, 50)  # Random hours of TV watching between 1 and 5\n",
    "physical_activity_level = 10 - tv_watching_hours + np.random.normal(0, 1, 50)  # Inverse relationship with some noise\n",
    "\n",
    "# Create a DataFrame\n",
    "data = pd.DataFrame({\n",
    "    'TV_Watching_Hours': tv_watching_hours,\n",
    "    'Physical_Activity_Level': physical_activity_level\n",
    "})\n",
    "\n",
    "print(\"Sample Data:\")\n",
    "print(data.head())\n"
   ]
  },
  {
   "cell_type": "code",
   "execution_count": null,
   "id": "6dbf0212",
   "metadata": {},
   "outputs": [],
   "source": []
  }
 ],
 "metadata": {
  "kernelspec": {
   "display_name": "Python 3",
   "language": "python",
   "name": "python3"
  },
  "language_info": {
   "codemirror_mode": {
    "name": "ipython",
    "version": 3
   },
   "file_extension": ".py",
   "mimetype": "text/x-python",
   "name": "python",
   "nbconvert_exporter": "python",
   "pygments_lexer": "ipython3",
   "version": "3.11.3"
  }
 },
 "nbformat": 4,
 "nbformat_minor": 5
}
